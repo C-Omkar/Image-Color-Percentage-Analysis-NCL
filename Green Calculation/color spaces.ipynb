{
 "cells": [
  {
   "cell_type": "code",
   "execution_count": 2,
   "metadata": {},
   "outputs": [],
   "source": [
    "import cv2\n",
    "import numpy as np"
   ]
  },
  {
   "cell_type": "code",
   "execution_count": 3,
   "metadata": {},
   "outputs": [],
   "source": [
    "imagePath = \"D:\\OneDrive - Indian Institute of Technology Guwahati\\Work Related\\Image Analysis Color Percentage/\"\n",
    "img = cv2.imread(imagePath+\"Test 2.jpeg\")"
   ]
  },
  {
   "cell_type": "code",
   "execution_count": 4,
   "metadata": {},
   "outputs": [],
   "source": [
    "def imshow(img):\n",
    "    cv2.imshow(\"img\", img)\n",
    "    cv2.waitKey(0)\n",
    "    cv2.destroyAllWindows()"
   ]
  },
  {
   "cell_type": "code",
   "execution_count": 5,
   "metadata": {},
   "outputs": [],
   "source": [
    "# rgb color space\n",
    "\n",
    "imshow(img)\n",
    "rgbimg = cv2.cvtColor(img, cv2.COLOR_BGR2RGB)\n",
    "imshow(rgbimg)"
   ]
  },
  {
   "cell_type": "code",
   "execution_count": 6,
   "metadata": {},
   "outputs": [],
   "source": [
    "# hsv color space\n",
    "imshow(img)\n",
    "grayimg = cv2.cvtColor(img, cv2.COLOR_BGR2GRAY)\n",
    "imshow(grayimg)\n",
    "hsvimg = cv2.cvtColor(img, cv2.COLOR_BGR2HSV)\n",
    "imshow(hsvimg)\n",
    "# value channel of hsv \n",
    "imshow(hsvimg[:,:,2])"
   ]
  },
  {
   "cell_type": "code",
   "execution_count": 8,
   "metadata": {},
   "outputs": [],
   "source": [
    "#image segmentation in hsv color space\n",
    "imshow(img)\n",
    "# grayimg = cv2.cvtColor(img, cv2.COLOR_BGR2GRAY)\n",
    "# imshow(grayimg)\n",
    "\n",
    "# (40, 40,40) ~ (70, 255,255)\n",
    "hsvimg = cv2.cvtColor(img, cv2.COLOR_BGR2HSV)\n",
    "imshow(hsvimg)\n",
    "hsv_lower = np.array([30, 40, 40])\n",
    "hsv_upper = np.array([70, 222, 222])\n",
    "\n",
    "mask  = cv2.inRange(hsvimg, hsv_lower, hsv_upper)\n",
    "imshow(mask)\n",
    "# hsvOutput = cv2.bitwise_and(hsvimg, hsvimg, mask=mask)\n",
    "# cv2.imshow(\"images\", np.hstack([hsvimg, hsvOutput]))\n"
   ]
  },
  {
   "cell_type": "code",
   "execution_count": 10,
   "metadata": {},
   "outputs": [],
   "source": [
    "# LAB COlor space\n",
    "imshow(img)\n",
    "labimg = cv2.cvtColor(img, cv2.COLOR_BGR2LAB)\n",
    "imshow(labimg)\n",
    "# luminosity channel of lab color space, similar to grayscale\n",
    "imshow(labimg[:,:,1])\n"
   ]
  },
  {
   "cell_type": "code",
   "execution_count": 12,
   "metadata": {},
   "outputs": [],
   "source": [
    "# image segmentation in LAB color space\n",
    "imshow(img)\n",
    "\n",
    "greenchannel = cv2.cvtColor(img, cv2.COLOR_BGR2LAB)[:,:,1]\n",
    "greenchannel = np.expand_dims(greenchannel, axis=2)\n",
    "imshow(greenchannel)\n",
    "\n",
    "# k means clustering for segmentation\n",
    "greenchannelk = greenchannel.reshape(greenchannel.shape[0]*greenchannel.shape[1], greenchannel.shape[2])\n",
    "greenchannelk = np.float32(greenchannelk)\n",
    "\n",
    "criteria = (cv2.TERM_CRITERIA_EPS + cv2.TERM_CRITERIA_MAX_ITER, 100, 0.2)\n",
    "k = 2\n",
    "\n",
    "_, labels, (centers) = cv2.kmeans(greenchannelk, k, None, criteria, 10, cv2.KMEANS_RANDOM_CENTERS)\n",
    "centers = np.uint8(centers)\n",
    "labels = labels.flatten()\n",
    "\n",
    "segmented_image = centers[labels.flatten()]\n",
    "segmented_image = segmented_image.reshape(greenchannel.shape)\n",
    "\n",
    "bgnd_label = labels[0]\n",
    "labels = labels.reshape(greenchannel.shape)\n",
    "\n",
    "segmented_image[labels == bgnd_label] = 0\n",
    "segmented_image[labels != bgnd_label] = 255\n",
    "\n",
    "imshow(segmented_image)\n"
   ]
  },
  {
   "cell_type": "code",
   "execution_count": null,
   "metadata": {},
   "outputs": [],
   "source": []
  }
 ],
 "metadata": {
  "kernelspec": {
   "display_name": "Python 3.7.9 64-bit",
   "language": "python",
   "name": "python3"
  },
  "language_info": {
   "codemirror_mode": {
    "name": "ipython",
    "version": 3
   },
   "file_extension": ".py",
   "mimetype": "text/x-python",
   "name": "python",
   "nbconvert_exporter": "python",
   "pygments_lexer": "ipython3",
   "version": "3.7.9"
  },
  "orig_nbformat": 4,
  "vscode": {
   "interpreter": {
    "hash": "e4c3646d686ab2ec15e746d497249ea2613f1002544598c4cf68a1216e5982a8"
   }
  }
 },
 "nbformat": 4,
 "nbformat_minor": 2
}
