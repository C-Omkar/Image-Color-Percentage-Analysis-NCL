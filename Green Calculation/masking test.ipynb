{
 "cells": [
  {
   "cell_type": "code",
   "execution_count": 7,
   "metadata": {},
   "outputs": [],
   "source": [
    "import cv2\n",
    "import numpy as np"
   ]
  },
  {
   "cell_type": "code",
   "execution_count": 8,
   "metadata": {},
   "outputs": [],
   "source": [
    "imagePath = \"D:\\OneDrive - Indian Institute of Technology Guwahati\\Work Related\\Image Analysis Color Percentage/\"\n",
    "img = cv2.imread(imagePath+\"Screw Red.jpeg\")"
   ]
  },
  {
   "cell_type": "code",
   "execution_count": 9,
   "metadata": {},
   "outputs": [
    {
     "data": {
      "text/plain": [
       "array([[0, 0, 0, ..., 0, 0, 0],\n",
       "       [0, 0, 0, ..., 0, 0, 0],\n",
       "       [0, 0, 0, ..., 0, 0, 0],\n",
       "       ...,\n",
       "       [0, 0, 0, ..., 0, 0, 0],\n",
       "       [0, 0, 0, ..., 0, 0, 0],\n",
       "       [0, 0, 0, ..., 0, 0, 0]], dtype=uint8)"
      ]
     },
     "execution_count": 9,
     "metadata": {},
     "output_type": "execute_result"
    }
   ],
   "source": [
    "mask = np.zeros(img.shape[:2], dtype=\"uint8\")\n",
    "pts = np.array([[50,480],[65,610],[400,530],[390,400]]) # points go anticlockwise, first is the top left one\n",
    "# cv2.polylines(mask,[pts],True,255)\n",
    "cv2.fillPoly(mask, pts = [pts], color=(255,255,255))"
   ]
  },
  {
   "cell_type": "code",
   "execution_count": 10,
   "metadata": {},
   "outputs": [],
   "source": [
    "# mask = np.zeros(img.shape[:2], dtype=\"uint8\")\n",
    "# cv2.rectangle(mask, (20, 270), (40, 390), 255, -1)"
   ]
  },
  {
   "cell_type": "code",
   "execution_count": 11,
   "metadata": {},
   "outputs": [
    {
     "data": {
      "text/plain": [
       "-1"
      ]
     },
     "execution_count": 11,
     "metadata": {},
     "output_type": "execute_result"
    }
   ],
   "source": [
    "masked = cv2.bitwise_and(img, img, mask=mask)\n",
    "cv2.imshow(\"Mask Applied to Image\", masked)\n",
    "cv2.waitKey(0)"
   ]
  },
  {
   "cell_type": "code",
   "execution_count": 13,
   "metadata": {},
   "outputs": [
    {
     "data": {
      "text/plain": [
       "(835, 460, 3)"
      ]
     },
     "execution_count": 13,
     "metadata": {},
     "output_type": "execute_result"
    }
   ],
   "source": [
    "\n",
    "width = int(masked.shape[1])\n",
    "height = int(masked.shape[0])"
   ]
  },
  {
   "cell_type": "code",
   "execution_count": 12,
   "metadata": {},
   "outputs": [],
   "source": [
    "# imagePath = \"D:\\OneDrive - Indian Institute of Technology Guwahati\\Work Related\\Image Analysis Color Percentage/\"\n",
    "# img1 = cv2.imread(imagePath+\"Thread 1.png\")\n",
    "\n",
    "hsv = cv2.cvtColor(masked,cv2.COLOR_BGR2HSV)\n",
    "\n",
    "#lower red\n",
    "lower_red = np.array([0,50,50])\n",
    "upper_red = np.array([10,180,200])\n",
    "\n",
    "\n",
    "#upper red\n",
    "lower_red2 = np.array([170,50,50])\n",
    "upper_red2 = np.array([180,180,200])\n",
    "\n",
    "maskit = cv2.inRange(hsv, lower_red, upper_red)\n",
    "res = cv2.bitwise_and(masked,masked, mask= maskit)\n",
    "\n",
    "\n",
    "mask2 = cv2.inRange(hsv, lower_red2, upper_red2)\n",
    "res2 = cv2.bitwise_and(masked,masked, mask= mask2)\n",
    "\n",
    "img3 = res+res2\n",
    "img4 = cv2.add(res,res2)\n",
    "img5 = cv2.addWeighted(res,0.5,res2,0.5,0)\n",
    "\n",
    "\n",
    "kernel = np.ones((15,15),np.float32)/225\n",
    "smoothed = cv2.filter2D(res,-1,kernel)\n",
    "smoothed2 = cv2.filter2D(img3,-1,kernel)\n",
    "\n",
    "\n",
    "\n",
    "\n",
    "\n",
    "# cv2.imshow('Original',img1)\n",
    "# cv2.imshow('Averaging',smoothed)\n",
    "# cv2.imshow('mask',mask)\n",
    "# cv2.imshow('res',res)\n",
    "# cv2.imshow('mask2',mask2)\n",
    "# cv2.imshow('res2',res2)\n",
    "cv2.imshow('res3',img3)\n",
    "cv2.imshow('res4',img4)\n",
    "cv2.imshow('res5',img5)\n",
    "# cv2.imshow('smooth2',smoothed2)\n",
    "\n",
    "\n",
    "\n",
    "\n",
    "cv2.waitKey(0)\n",
    "cv2.destroyAllWindows()"
   ]
  },
  {
   "cell_type": "code",
   "execution_count": 14,
   "metadata": {},
   "outputs": [
    {
     "ename": "error",
     "evalue": "OpenCV(4.5.2) C:\\Users\\runneradmin\\AppData\\Local\\Temp\\pip-req-build-t9hleyt8\\opencv\\modules\\core\\src\\count_non_zero.dispatch.cpp:128: error: (-215:Assertion failed) cn == 1 in function 'cv::countNonZero'\n",
     "output_type": "error",
     "traceback": [
      "\u001b[1;31m---------------------------------------------------------------------------\u001b[0m",
      "\u001b[1;31merror\u001b[0m                                     Traceback (most recent call last)",
      "\u001b[1;32m~\\AppData\\Local\\Temp\\ipykernel_15692\\1348803164.py\u001b[0m in \u001b[0;36m<module>\u001b[1;34m\u001b[0m\n\u001b[1;32m----> 1\u001b[1;33m \u001b[0mratio_red\u001b[0m \u001b[1;33m=\u001b[0m \u001b[0mcv2\u001b[0m\u001b[1;33m.\u001b[0m\u001b[0mcountNonZero\u001b[0m\u001b[1;33m(\u001b[0m\u001b[0mres\u001b[0m\u001b[1;33m)\u001b[0m\u001b[1;33m/\u001b[0m\u001b[1;33m(\u001b[0m\u001b[0mmasked\u001b[0m\u001b[1;33m.\u001b[0m\u001b[0msize\u001b[0m\u001b[1;33m/\u001b[0m\u001b[1;36m3\u001b[0m\u001b[1;33m)\u001b[0m\u001b[1;33m\u001b[0m\u001b[1;33m\u001b[0m\u001b[0m\n\u001b[0m\u001b[0;32m      2\u001b[0m \u001b[1;33m\u001b[0m\u001b[0m\n\u001b[0;32m      3\u001b[0m     \u001b[1;31m# This is the color percent calculation, considering the resize I did earlier.\u001b[0m\u001b[1;33m\u001b[0m\u001b[1;33m\u001b[0m\u001b[1;33m\u001b[0m\u001b[0m\n\u001b[0;32m      4\u001b[0m \u001b[0mcolorPercent\u001b[0m \u001b[1;33m=\u001b[0m \u001b[1;33m(\u001b[0m\u001b[0mratio_red\u001b[0m \u001b[1;33m*\u001b[0m \u001b[1;36m100\u001b[0m\u001b[1;33m)\u001b[0m\u001b[1;33m\u001b[0m\u001b[1;33m\u001b[0m\u001b[0m\n\u001b[0;32m      5\u001b[0m \u001b[1;33m\u001b[0m\u001b[0m\n",
      "\u001b[1;31merror\u001b[0m: OpenCV(4.5.2) C:\\Users\\runneradmin\\AppData\\Local\\Temp\\pip-req-build-t9hleyt8\\opencv\\modules\\core\\src\\count_non_zero.dispatch.cpp:128: error: (-215:Assertion failed) cn == 1 in function 'cv::countNonZero'\n"
     ]
    }
   ],
   "source": [
    "ratio_red = cv2.countNonZero(res)/(masked.size/3)\n",
    "\n",
    "    # This is the color percent calculation, considering the resize I did earlier.\n",
    "colorPercent = (ratio_red * 100) \n",
    "\n",
    "    # Print the color percent, use 2 figures past the decimal point\n",
    "print('green pixel percentage:', np.round(colorPercent, 2))"
   ]
  },
  {
   "cell_type": "code",
   "execution_count": null,
   "metadata": {},
   "outputs": [],
   "source": []
  },
  {
   "cell_type": "code",
   "execution_count": null,
   "metadata": {},
   "outputs": [],
   "source": []
  }
 ],
 "metadata": {
  "kernelspec": {
   "display_name": "Python 3.7.9 64-bit",
   "language": "python",
   "name": "python3"
  },
  "language_info": {
   "codemirror_mode": {
    "name": "ipython",
    "version": 3
   },
   "file_extension": ".py",
   "mimetype": "text/x-python",
   "name": "python",
   "nbconvert_exporter": "python",
   "pygments_lexer": "ipython3",
   "version": "3.7.9"
  },
  "orig_nbformat": 4,
  "vscode": {
   "interpreter": {
    "hash": "e4c3646d686ab2ec15e746d497249ea2613f1002544598c4cf68a1216e5982a8"
   }
  }
 },
 "nbformat": 4,
 "nbformat_minor": 2
}
